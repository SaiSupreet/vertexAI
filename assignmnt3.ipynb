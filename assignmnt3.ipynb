{
 "cells": [
  {
   "cell_type": "code",
   "execution_count": 1,
   "id": "142e7926-bb36-4e66-9458-b4f0c7e6d763",
   "metadata": {},
   "outputs": [],
   "source": [
    "from google.cloud import aiplatform\n",
    "aiplatform.init(\n",
    "    project='protean-pipe-385122',\n",
    "    location='northamerica-northeast2',\n",
    "    staging_bucket='doremon123'\n",
    ")"
   ]
  },
  {
   "cell_type": "code",
   "execution_count": 2,
   "id": "b65fcd6f-e8ba-469c-8141-5a88147cd2a5",
   "metadata": {},
   "outputs": [],
   "source": [
    "\n",
    "import random\n",
    "import string\n",
    "\n",
    "\n",
    "# Generate a uuid of length 8\n",
    "def generate_uuid():\n",
    "    return \"\".join(random.choices(string.ascii_lowercase + string.digits, k=8))\n",
    "\n",
    "\n",
    "UUID = generate_uuid()"
   ]
  },
  {
   "cell_type": "code",
   "execution_count": 3,
   "id": "adb5131e-96e1-4b19-affd-984af4b0a40b",
   "metadata": {},
   "outputs": [],
   "source": [
    "from google.cloud import aiplatform as aip\n",
    "\n"
   ]
  },
  {
   "cell_type": "code",
   "execution_count": 4,
   "id": "c63bacdc-26af-4a0c-959c-2a56bb2a306a",
   "metadata": {},
   "outputs": [],
   "source": [
    "IMPORT_FILE = \"gs://cloud-ml-tables-data/bank-marketing.csv\""
   ]
  },
  {
   "cell_type": "code",
   "execution_count": 5,
   "id": "d6a1f55c-8e86-4990-96ce-70f0a0bdca4f",
   "metadata": {},
   "outputs": [
    {
     "name": "stdout",
     "output_type": "stream",
     "text": [
      "Creating TabularDataset\n",
      "Create TabularDataset backing LRO: projects/918002543242/locations/northamerica-northeast2/datasets/8268327440875520000/operations/2497655011702472704\n",
      "TabularDataset created. Resource name: projects/918002543242/locations/northamerica-northeast2/datasets/8268327440875520000\n",
      "To use this TabularDataset in another session:\n",
      "ds = aiplatform.TabularDataset('projects/918002543242/locations/northamerica-northeast2/datasets/8268327440875520000')\n",
      "projects/918002543242/locations/northamerica-northeast2/datasets/8268327440875520000\n"
     ]
    }
   ],
   "source": [
    "from google.cloud import aiplatform as aip\n",
    "\n",
    "# Initialize the Vertex AI SDK\n",
    "aip.init(project='protean-pipe-385122',\n",
    "    location='northamerica-northeast2')\n",
    "\n",
    "dataset = aip.TabularDataset.create(\n",
    "    display_name=\"Bank Marketing\" + \"_\" + UUID, gcs_source=[IMPORT_FILE]\n",
    ")\n",
    "\n",
    "print(dataset.resource_name)\n"
   ]
  },
  {
   "cell_type": "code",
   "execution_count": 6,
   "id": "c0d7c6e9-8234-4b9f-b803-bc7c2eb83410",
   "metadata": {},
   "outputs": [
    {
     "name": "stdout",
     "output_type": "stream",
     "text": [
      "<google.cloud.aiplatform.training_jobs.AutoMLTabularTrainingJob object at 0x7f726eae6310>\n"
     ]
    }
   ],
   "source": [
    "dag = aip.AutoMLTabularTrainingJob(\n",
    "    display_name=\"bank_\" + UUID,\n",
    "    optimization_prediction_type=\"classification\",\n",
    "    optimization_objective=\"minimize-log-loss\",\n",
    ")\n",
    "\n",
    "print(dag)"
   ]
  },
  {
   "cell_type": "code",
   "execution_count": null,
   "id": "46fcf078-186b-4148-8912-12e88d1a37a6",
   "metadata": {},
   "outputs": [
    {
     "name": "stdout",
     "output_type": "stream",
     "text": [
      "No column transformations provided, so now retrieving columns from dataset in order to set default column transformations.\n",
      "The column transformation of type 'auto' was set for the following columns: ['Age', 'Duration', 'Previous', 'Education', 'MaritalStatus', 'Day', 'Deposit', 'Campaign', 'Contact', 'Housing', 'PDays', 'Loan', 'Month', 'Default', 'Balance', 'Job'].\n",
      "View Training:\n",
      "https://console.cloud.google.com/ai/platform/locations/northamerica-northeast2/training/4453576246353199104?project=918002543242\n",
      "AutoMLTabularTrainingJob projects/918002543242/locations/northamerica-northeast2/trainingPipelines/4453576246353199104 current state:\n",
      "PipelineState.PIPELINE_STATE_RUNNING\n",
      "AutoMLTabularTrainingJob projects/918002543242/locations/northamerica-northeast2/trainingPipelines/4453576246353199104 current state:\n",
      "PipelineState.PIPELINE_STATE_RUNNING\n",
      "AutoMLTabularTrainingJob projects/918002543242/locations/northamerica-northeast2/trainingPipelines/4453576246353199104 current state:\n",
      "PipelineState.PIPELINE_STATE_RUNNING\n",
      "AutoMLTabularTrainingJob projects/918002543242/locations/northamerica-northeast2/trainingPipelines/4453576246353199104 current state:\n",
      "PipelineState.PIPELINE_STATE_RUNNING\n",
      "AutoMLTabularTrainingJob projects/918002543242/locations/northamerica-northeast2/trainingPipelines/4453576246353199104 current state:\n",
      "PipelineState.PIPELINE_STATE_RUNNING\n",
      "AutoMLTabularTrainingJob projects/918002543242/locations/northamerica-northeast2/trainingPipelines/4453576246353199104 current state:\n",
      "PipelineState.PIPELINE_STATE_RUNNING\n",
      "AutoMLTabularTrainingJob projects/918002543242/locations/northamerica-northeast2/trainingPipelines/4453576246353199104 current state:\n",
      "PipelineState.PIPELINE_STATE_RUNNING\n",
      "AutoMLTabularTrainingJob projects/918002543242/locations/northamerica-northeast2/trainingPipelines/4453576246353199104 current state:\n",
      "PipelineState.PIPELINE_STATE_RUNNING\n",
      "AutoMLTabularTrainingJob projects/918002543242/locations/northamerica-northeast2/trainingPipelines/4453576246353199104 current state:\n",
      "PipelineState.PIPELINE_STATE_RUNNING\n",
      "AutoMLTabularTrainingJob projects/918002543242/locations/northamerica-northeast2/trainingPipelines/4453576246353199104 current state:\n",
      "PipelineState.PIPELINE_STATE_RUNNING\n",
      "AutoMLTabularTrainingJob projects/918002543242/locations/northamerica-northeast2/trainingPipelines/4453576246353199104 current state:\n",
      "PipelineState.PIPELINE_STATE_RUNNING\n",
      "AutoMLTabularTrainingJob projects/918002543242/locations/northamerica-northeast2/trainingPipelines/4453576246353199104 current state:\n",
      "PipelineState.PIPELINE_STATE_RUNNING\n",
      "AutoMLTabularTrainingJob projects/918002543242/locations/northamerica-northeast2/trainingPipelines/4453576246353199104 current state:\n",
      "PipelineState.PIPELINE_STATE_RUNNING\n",
      "AutoMLTabularTrainingJob projects/918002543242/locations/northamerica-northeast2/trainingPipelines/4453576246353199104 current state:\n",
      "PipelineState.PIPELINE_STATE_RUNNING\n",
      "AutoMLTabularTrainingJob projects/918002543242/locations/northamerica-northeast2/trainingPipelines/4453576246353199104 current state:\n",
      "PipelineState.PIPELINE_STATE_RUNNING\n",
      "AutoMLTabularTrainingJob projects/918002543242/locations/northamerica-northeast2/trainingPipelines/4453576246353199104 current state:\n",
      "PipelineState.PIPELINE_STATE_RUNNING\n",
      "AutoMLTabularTrainingJob projects/918002543242/locations/northamerica-northeast2/trainingPipelines/4453576246353199104 current state:\n",
      "PipelineState.PIPELINE_STATE_RUNNING\n",
      "AutoMLTabularTrainingJob projects/918002543242/locations/northamerica-northeast2/trainingPipelines/4453576246353199104 current state:\n",
      "PipelineState.PIPELINE_STATE_RUNNING\n",
      "AutoMLTabularTrainingJob projects/918002543242/locations/northamerica-northeast2/trainingPipelines/4453576246353199104 current state:\n",
      "PipelineState.PIPELINE_STATE_RUNNING\n",
      "AutoMLTabularTrainingJob projects/918002543242/locations/northamerica-northeast2/trainingPipelines/4453576246353199104 current state:\n",
      "PipelineState.PIPELINE_STATE_RUNNING\n",
      "AutoMLTabularTrainingJob projects/918002543242/locations/northamerica-northeast2/trainingPipelines/4453576246353199104 current state:\n",
      "PipelineState.PIPELINE_STATE_RUNNING\n",
      "AutoMLTabularTrainingJob projects/918002543242/locations/northamerica-northeast2/trainingPipelines/4453576246353199104 current state:\n",
      "PipelineState.PIPELINE_STATE_RUNNING\n",
      "AutoMLTabularTrainingJob projects/918002543242/locations/northamerica-northeast2/trainingPipelines/4453576246353199104 current state:\n",
      "PipelineState.PIPELINE_STATE_RUNNING\n",
      "AutoMLTabularTrainingJob projects/918002543242/locations/northamerica-northeast2/trainingPipelines/4453576246353199104 current state:\n",
      "PipelineState.PIPELINE_STATE_RUNNING\n"
     ]
    }
   ],
   "source": [
    "\n",
    "model = dag.run(\n",
    "    dataset=dataset,\n",
    "    model_display_name=\"bank_\" + UUID,\n",
    "    training_fraction_split=0.6,\n",
    "    validation_fraction_split=0.2,\n",
    "    test_fraction_split=0.2,\n",
    "    budget_milli_node_hours=8000,\n",
    "    disable_early_stopping=False,\n",
    "    target_column='POutcome',\n",
    ")\n"
   ]
  },
  {
   "cell_type": "code",
   "execution_count": null,
   "id": "4d424d30-192f-48b1-999c-c99c574a53af",
   "metadata": {},
   "outputs": [],
   "source": [
    "\n",
    "model_evaluations = model.list_model_evaluations()\n",
    "\n",
    "for model_evaluation in model_evaluations:\n",
    "    print(model_evaluation.to_dict())"
   ]
  },
  {
   "cell_type": "code",
   "execution_count": 10,
   "id": "10f13e44-583b-45e4-a39b-c4be02a073c6",
   "metadata": {},
   "outputs": [],
   "source": [
    "BUCKET_URI = \"gs://doremon123\""
   ]
  },
  {
   "cell_type": "code",
   "execution_count": 67,
   "id": "d8991b6c-90a0-4d94-9062-5f69a0b7e8c2",
   "metadata": {},
   "outputs": [
    {
     "name": "stdout",
     "output_type": "stream",
     "text": [
      "Copying file://batch.csv [Content-Type=text/csv]...\n",
      "/ [1 files][  949.0 B/  949.0 B]                                                \n",
      "Operation completed over 1 objects/949.0 B.                                      \n"
     ]
    }
   ],
   "source": [
    "! gsutil cat $IMPORT_FILE | head -n 1 > tmp.csv\n",
    "! gsutil cat $IMPORT_FILE | tail -n 10 >> tmp.csv\n",
    "\n",
    "! cut -d, -f1-17 tmp.csv > batch.csv\n",
    "\n",
    "gcs_input_uri = BUCKET_URI + \"/test.csv\"\n",
    "\n",
    "! gsutil cp batch.csv $gcs_input_uri"
   ]
  },
  {
   "cell_type": "code",
   "execution_count": 68,
   "id": "be223d67-26ed-4d81-9610-7bb446f42bfa",
   "metadata": {},
   "outputs": [
    {
     "name": "stdout",
     "output_type": "stream",
     "text": [
      "Creating BatchPredictionJob\n",
      "<google.cloud.aiplatform.jobs.BatchPredictionJob object at 0x7f728fb6d150> is waiting for upstream dependencies to complete.\n"
     ]
    }
   ],
   "source": [
    "batch_predict_job = model.batch_predict(\n",
    "    job_display_name=\"bank_\" + UUID,\n",
    "    gcs_source=gcs_input_uri,\n",
    "    gcs_destination_prefix=BUCKET_URI,\n",
    "    instances_format=\"csv\",\n",
    "    predictions_format=\"jsonl\",\n",
    "    generate_explanation=True,\n",
    "    sync=False,\n",
    ")\n",
    "\n",
    "print(batch_predict_job)"
   ]
  },
  {
   "cell_type": "code",
   "execution_count": null,
   "id": "e0d02603-5f6a-434b-b20d-d093d2977c99",
   "metadata": {},
   "outputs": [],
   "source": [
    "batch_predict_job.wait()"
   ]
  },
  {
   "cell_type": "code",
   "execution_count": null,
   "id": "8be503cd-1bd4-40bd-bf63-38cd86f34ee9",
   "metadata": {},
   "outputs": [],
   "source": [
    "import pandas as pd\n",
    "\n",
    "df = pd.read_csv(\"batch.csv\")\n"
   ]
  },
  {
   "cell_type": "code",
   "execution_count": null,
   "id": "5d207f64-d468-499d-97a4-6c8c7773a8fa",
   "metadata": {},
   "outputs": [],
   "source": [
    "df.head()"
   ]
  },
  {
   "cell_type": "code",
   "execution_count": 57,
   "id": "42860c62-741d-472a-a468-a1de279871fe",
   "metadata": {},
   "outputs": [],
   "source": [
    "df_tmp = pd.read_csv(\"tmp.csv\")"
   ]
  },
  {
   "cell_type": "code",
   "execution_count": 58,
   "id": "5a332d7c-49bf-4ca8-8c9f-bd4c0bf6c9c6",
   "metadata": {},
   "outputs": [
    {
     "data": {
      "text/html": [
       "<div>\n",
       "<style scoped>\n",
       "    .dataframe tbody tr th:only-of-type {\n",
       "        vertical-align: middle;\n",
       "    }\n",
       "\n",
       "    .dataframe tbody tr th {\n",
       "        vertical-align: top;\n",
       "    }\n",
       "\n",
       "    .dataframe thead th {\n",
       "        text-align: right;\n",
       "    }\n",
       "</style>\n",
       "<table border=\"1\" class=\"dataframe\">\n",
       "  <thead>\n",
       "    <tr style=\"text-align: right;\">\n",
       "      <th></th>\n",
       "      <th>Age</th>\n",
       "      <th>Job</th>\n",
       "      <th>MaritalStatus</th>\n",
       "      <th>Education</th>\n",
       "      <th>Default</th>\n",
       "      <th>Balance</th>\n",
       "      <th>Housing</th>\n",
       "      <th>Loan</th>\n",
       "      <th>Contact</th>\n",
       "      <th>Day</th>\n",
       "      <th>Month</th>\n",
       "      <th>Duration</th>\n",
       "      <th>Campaign</th>\n",
       "      <th>PDays</th>\n",
       "      <th>Previous</th>\n",
       "      <th>POutcome</th>\n",
       "      <th>Deposit</th>\n",
       "    </tr>\n",
       "  </thead>\n",
       "  <tbody>\n",
       "    <tr>\n",
       "      <th>0</th>\n",
       "      <td>53</td>\n",
       "      <td>management</td>\n",
       "      <td>married</td>\n",
       "      <td>tertiary</td>\n",
       "      <td>no</td>\n",
       "      <td>583</td>\n",
       "      <td>no</td>\n",
       "      <td>no</td>\n",
       "      <td>cellular</td>\n",
       "      <td>17</td>\n",
       "      <td>nov</td>\n",
       "      <td>226</td>\n",
       "      <td>1</td>\n",
       "      <td>184</td>\n",
       "      <td>4</td>\n",
       "      <td>success</td>\n",
       "      <td>2</td>\n",
       "    </tr>\n",
       "    <tr>\n",
       "      <th>1</th>\n",
       "      <td>34</td>\n",
       "      <td>admin.</td>\n",
       "      <td>single</td>\n",
       "      <td>secondary</td>\n",
       "      <td>no</td>\n",
       "      <td>557</td>\n",
       "      <td>no</td>\n",
       "      <td>no</td>\n",
       "      <td>cellular</td>\n",
       "      <td>17</td>\n",
       "      <td>nov</td>\n",
       "      <td>224</td>\n",
       "      <td>1</td>\n",
       "      <td>-1</td>\n",
       "      <td>0</td>\n",
       "      <td>unknown</td>\n",
       "      <td>2</td>\n",
       "    </tr>\n",
       "    <tr>\n",
       "      <th>2</th>\n",
       "      <td>23</td>\n",
       "      <td>student</td>\n",
       "      <td>single</td>\n",
       "      <td>tertiary</td>\n",
       "      <td>no</td>\n",
       "      <td>113</td>\n",
       "      <td>no</td>\n",
       "      <td>no</td>\n",
       "      <td>cellular</td>\n",
       "      <td>17</td>\n",
       "      <td>nov</td>\n",
       "      <td>266</td>\n",
       "      <td>1</td>\n",
       "      <td>-1</td>\n",
       "      <td>0</td>\n",
       "      <td>unknown</td>\n",
       "      <td>2</td>\n",
       "    </tr>\n",
       "    <tr>\n",
       "      <th>3</th>\n",
       "      <td>73</td>\n",
       "      <td>retired</td>\n",
       "      <td>married</td>\n",
       "      <td>secondary</td>\n",
       "      <td>no</td>\n",
       "      <td>2850</td>\n",
       "      <td>no</td>\n",
       "      <td>no</td>\n",
       "      <td>cellular</td>\n",
       "      <td>17</td>\n",
       "      <td>nov</td>\n",
       "      <td>300</td>\n",
       "      <td>1</td>\n",
       "      <td>40</td>\n",
       "      <td>8</td>\n",
       "      <td>failure</td>\n",
       "      <td>2</td>\n",
       "    </tr>\n",
       "    <tr>\n",
       "      <th>4</th>\n",
       "      <td>25</td>\n",
       "      <td>technician</td>\n",
       "      <td>single</td>\n",
       "      <td>secondary</td>\n",
       "      <td>no</td>\n",
       "      <td>505</td>\n",
       "      <td>no</td>\n",
       "      <td>yes</td>\n",
       "      <td>cellular</td>\n",
       "      <td>17</td>\n",
       "      <td>nov</td>\n",
       "      <td>386</td>\n",
       "      <td>2</td>\n",
       "      <td>-1</td>\n",
       "      <td>0</td>\n",
       "      <td>unknown</td>\n",
       "      <td>2</td>\n",
       "    </tr>\n",
       "  </tbody>\n",
       "</table>\n",
       "</div>"
      ],
      "text/plain": [
       "   Age         Job MaritalStatus  Education Default  Balance Housing Loan  \\\n",
       "0   53  management       married   tertiary      no      583      no   no   \n",
       "1   34      admin.        single  secondary      no      557      no   no   \n",
       "2   23     student        single   tertiary      no      113      no   no   \n",
       "3   73     retired       married  secondary      no     2850      no   no   \n",
       "4   25  technician        single  secondary      no      505      no  yes   \n",
       "\n",
       "    Contact  Day Month  Duration  Campaign  PDays  Previous POutcome  Deposit  \n",
       "0  cellular   17   nov       226         1    184         4  success        2  \n",
       "1  cellular   17   nov       224         1     -1         0  unknown        2  \n",
       "2  cellular   17   nov       266         1     -1         0  unknown        2  \n",
       "3  cellular   17   nov       300         1     40         8  failure        2  \n",
       "4  cellular   17   nov       386         2     -1         0  unknown        2  "
      ]
     },
     "execution_count": 58,
     "metadata": {},
     "output_type": "execute_result"
    }
   ],
   "source": [
    "df_tmp.head()"
   ]
  },
  {
   "cell_type": "code",
   "execution_count": 59,
   "id": "9fd624af-acab-4878-9ea2-483e91c4c3b4",
   "metadata": {},
   "outputs": [
    {
     "data": {
      "text/plain": [
       "(10, 17)"
      ]
     },
     "execution_count": 59,
     "metadata": {},
     "output_type": "execute_result"
    }
   ],
   "source": [
    "df.shape"
   ]
  },
  {
   "cell_type": "code",
   "execution_count": 60,
   "id": "02c4a7c3-a0bf-41b9-ad0a-21639ee18ac7",
   "metadata": {},
   "outputs": [
    {
     "data": {
      "text/plain": [
       "(10, 17)"
      ]
     },
     "execution_count": 60,
     "metadata": {},
     "output_type": "execute_result"
    }
   ],
   "source": [
    "df_tmp.shape"
   ]
  },
  {
   "cell_type": "code",
   "execution_count": 61,
   "id": "94bc72e2-60f9-401d-8187-f787e5766214",
   "metadata": {},
   "outputs": [
    {
     "name": "stdout",
     "output_type": "stream",
     "text": [
      "<class 'pandas.core.frame.DataFrame'>\n",
      "RangeIndex: 10 entries, 0 to 9\n",
      "Data columns (total 17 columns):\n",
      " #   Column         Non-Null Count  Dtype \n",
      "---  ------         --------------  ----- \n",
      " 0   Age            10 non-null     int64 \n",
      " 1   Job            10 non-null     object\n",
      " 2   MaritalStatus  10 non-null     object\n",
      " 3   Education      10 non-null     object\n",
      " 4   Default        10 non-null     object\n",
      " 5   Balance        10 non-null     int64 \n",
      " 6   Housing        10 non-null     object\n",
      " 7   Loan           10 non-null     object\n",
      " 8   Contact        10 non-null     object\n",
      " 9   Day            10 non-null     int64 \n",
      " 10  Month          10 non-null     object\n",
      " 11  Duration       10 non-null     int64 \n",
      " 12  Campaign       10 non-null     int64 \n",
      " 13  PDays          10 non-null     int64 \n",
      " 14  Previous       10 non-null     int64 \n",
      " 15  POutcome       10 non-null     object\n",
      " 16  Deposit        10 non-null     int64 \n",
      "dtypes: int64(8), object(9)\n",
      "memory usage: 1.5+ KB\n"
     ]
    }
   ],
   "source": [
    "df.info()"
   ]
  },
  {
   "cell_type": "code",
   "execution_count": 62,
   "id": "4b2cc19d-4b10-4c6b-b5a6-268abe1e174b",
   "metadata": {},
   "outputs": [
    {
     "name": "stdout",
     "output_type": "stream",
     "text": [
      "<class 'pandas.core.frame.DataFrame'>\n",
      "RangeIndex: 10 entries, 0 to 9\n",
      "Data columns (total 17 columns):\n",
      " #   Column         Non-Null Count  Dtype \n",
      "---  ------         --------------  ----- \n",
      " 0   Age            10 non-null     int64 \n",
      " 1   Job            10 non-null     object\n",
      " 2   MaritalStatus  10 non-null     object\n",
      " 3   Education      10 non-null     object\n",
      " 4   Default        10 non-null     object\n",
      " 5   Balance        10 non-null     int64 \n",
      " 6   Housing        10 non-null     object\n",
      " 7   Loan           10 non-null     object\n",
      " 8   Contact        10 non-null     object\n",
      " 9   Day            10 non-null     int64 \n",
      " 10  Month          10 non-null     object\n",
      " 11  Duration       10 non-null     int64 \n",
      " 12  Campaign       10 non-null     int64 \n",
      " 13  PDays          10 non-null     int64 \n",
      " 14  Previous       10 non-null     int64 \n",
      " 15  POutcome       10 non-null     object\n",
      " 16  Deposit        10 non-null     int64 \n",
      "dtypes: int64(8), object(9)\n",
      "memory usage: 1.5+ KB\n"
     ]
    }
   ],
   "source": [
    "df_tmp.info()"
   ]
  },
  {
   "cell_type": "code",
   "execution_count": 63,
   "id": "46b90799-6297-41bb-a444-4a9f9e0861fc",
   "metadata": {},
   "outputs": [
    {
     "data": {
      "text/plain": [
       "<google.cloud.aiplatform.jobs.BatchPredictionJob object at 0x7f71ee1c2610> \n",
       "resource name: projects/918002543242/locations/northamerica-northeast2/batchPredictionJobs/2533635430209814528"
      ]
     },
     "execution_count": 63,
     "metadata": {},
     "output_type": "execute_result"
    }
   ],
   "source": [
    "batch_predict_job"
   ]
  },
  {
   "cell_type": "code",
   "execution_count": null,
   "id": "1e777205-f776-44ad-84aa-bfb6dfc96038",
   "metadata": {},
   "outputs": [],
   "source": [
    "import tensorflow as tf\n",
    "\n",
    "bp_iter_outputs = batch_predict_job.iter_outputs()\n",
    "\n",
    "explanation_results = list()\n",
    "for blob in bp_iter_outputs:\n",
    "    if blob.name.split(\"/\")[-1].startswith(\"explanation\"):\n",
    "        explanation_results.append(blob.name)\n",
    "\n",
    "tags = list()\n",
    "for explanation_result in explanation_results:\n",
    "    gfile_name = f\"gs://{bp_iter_outputs.bucket.name}/{explanation_result}\"\n",
    "    with tf.io.gfile.GFile(name=gfile_name, mode=\"r\") as gfile:\n",
    "        for line in gfile.readlines():\n",
    "            print(line)"
   ]
  },
  {
   "cell_type": "code",
   "execution_count": null,
   "id": "2f967fab-4a67-47e7-9484-8d5f62a79cae",
   "metadata": {},
   "outputs": [],
   "source": [
    "import os\n",
    "# Set this to true only if you'd like to delete your bucket\n",
    "delete_bucket = False\n",
    "\n",
    "dataset.delete()\n",
    "model.delete()\n",
    "batch_predict_job.delete()\n",
    "\n",
    "if delete_bucket or os.getenv(\"IS_TESTING\"):\n",
    "    ! gsutil rm -r $BUCKET_URI"
   ]
  },
  {
   "cell_type": "code",
   "execution_count": null,
   "id": "5554778a-4133-422d-a9b8-fe18b2f17287",
   "metadata": {},
   "outputs": [],
   "source": []
  }
 ],
 "metadata": {
  "environment": {
   "kernel": "python3",
   "name": "tf2-gpu.2-8.m107",
   "type": "gcloud",
   "uri": "gcr.io/deeplearning-platform-release/tf2-gpu.2-8:m107"
  },
  "kernelspec": {
   "display_name": "Python 3 (ipykernel)",
   "language": "python",
   "name": "python3"
  },
  "language_info": {
   "codemirror_mode": {
    "name": "ipython",
    "version": 3
   },
   "file_extension": ".py",
   "mimetype": "text/x-python",
   "name": "python",
   "nbconvert_exporter": "python",
   "pygments_lexer": "ipython3",
   "version": "3.7.12"
  }
 },
 "nbformat": 4,
 "nbformat_minor": 5
}
